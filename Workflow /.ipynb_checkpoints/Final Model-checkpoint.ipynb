{
 "cells": [
  {
   "cell_type": "code",
   "execution_count": 1,
   "id": "63a1bdf5",
   "metadata": {},
   "outputs": [],
   "source": [
    "import numpy as np\n",
    "import pandas as pd\n",
    "from sklearn.model_selection import train_test_split\n",
    "from sklearn.metrics import classification_report, confusion_matrix\n",
    "\n",
    "from keras.datasets import fashion_mnist\n",
    "from tensorflow import keras\n",
    "from tensorflow.keras import datasets, layers, models\n",
    "from tensorflow.keras.models import Sequential\n",
    "from tensorflow.keras.layers import Dense, Conv2D, MaxPooling2D, Flatten, GlobalAveragePooling2D, InputLayer, Dropout, ZeroPadding2D\n",
    "from tensorflow.keras.preprocessing import image\n",
    "from tensorflow.keras.utils import to_categorical\n",
    "\n",
    "from keras.utils.vis_utils import model_to_dot\n",
    "from keras.utils.vis_utils import plot_model\n",
    "\n",
    "from IPython.display import SVG\n",
    "import seaborn as sns\n",
    "import matplotlib.pyplot as plt\n",
    "%matplotlib inline"
   ]
  },
  {
   "cell_type": "code",
   "execution_count": 2,
   "id": "07fb2efb",
   "metadata": {},
   "outputs": [],
   "source": [
    "(X_train, y_train), (X_test, y_test) = fashion_mnist.load_data()"
   ]
  },
  {
   "cell_type": "markdown",
   "id": "7e43737f",
   "metadata": {},
   "source": [
    "Data normalization - normalize the data dimension that they are of approximately the same scale"
   ]
  },
  {
   "cell_type": "code",
   "execution_count": 3,
   "id": "f47148da",
   "metadata": {},
   "outputs": [],
   "source": [
    "X_train = X_train.astype('float32') / 255\n",
    "X_test = X_test.astype('float32') / 255"
   ]
  },
  {
   "cell_type": "code",
   "execution_count": 4,
   "id": "bf2a0bfb",
   "metadata": {},
   "outputs": [
    {
     "name": "stdout",
     "output_type": "stream",
     "text": [
      "Number of train data: 60000\n",
      "Number of test data: 10000\n"
     ]
    }
   ],
   "source": [
    "print('Number of train data: ' + str(len(X_train)))\n",
    "print('Number of test data: ' + str(len(X_test)))"
   ]
  },
  {
   "cell_type": "markdown",
   "id": "b38745f8",
   "metadata": {},
   "source": [
    "### Split the data into train/validation/test"
   ]
  },
  {
   "cell_type": "markdown",
   "id": "34b365fb",
   "metadata": {},
   "source": [
    "* train set - training the model\n",
    "* validation set - tuning the hyperparameter and evaluate the models\n",
    "* test set - testing the model after the model has gone through initial vetting by the validation set"
   ]
  },
  {
   "cell_type": "code",
   "execution_count": 5,
   "id": "5aaf1ed8",
   "metadata": {},
   "outputs": [
    {
     "name": "stdout",
     "output_type": "stream",
     "text": [
      "Fashion MNIST Train - rows:  48000  columns:  (28, 28)\n",
      "Fashion MNIST Validation - rows:  12000  columns:  (28, 28)\n",
      "Fashion MNIST Test - rows:  10000  columns:  (28, 28)\n"
     ]
    }
   ],
   "source": [
    "# break training set into train and val sets.\n",
    "#(X_train, X_val) = X_train[5000:], X_train[:5000]\n",
    "#(y_train, y_val) = y_train[5000:], y_train[:5000]\n",
    "\n",
    "\n",
    "# generate val set-- have issues with label sizes\n",
    "X_train, X_val, y_train, y_val = train_test_split(X_train, y_train, test_size=0.2, random_state=42)\n",
    "\n",
    "print('Fashion MNIST Train - rows: ', X_train.shape[0], ' columns: ', X_train.shape[1:4])\n",
    "print('Fashion MNIST Validation - rows: ', X_val.shape[0], ' columns: ', X_val.shape[1:4])\n",
    "print('Fashion MNIST Test - rows: ', X_test.shape[0], ' columns: ', X_test.shape[1:4])"
   ]
  },
  {
   "cell_type": "code",
   "execution_count": 6,
   "id": "f6c118b5",
   "metadata": {},
   "outputs": [
    {
     "name": "stdout",
     "output_type": "stream",
     "text": [
      "X_tain shape:  (48000, 28, 28, 1) y_train shape:  (48000, 10)\n",
      "48000 train set\n",
      "12000 validation set\n",
      "10000 test set\n"
     ]
    }
   ],
   "source": [
    "# reshape the input data\n",
    "X_train = X_train.reshape(X_train.shape[0], 28, 28, 1)\n",
    "X_val = X_val.reshape(X_val.shape[0], 28, 28, 1)\n",
    "X_test = X_test.reshape(X_test.shape[0], 28, 28, 1)\n",
    " \n",
    "# one-hot encode \n",
    "y_train = keras.utils.to_categorical(y_train, 10)\n",
    "y_val = keras.utils.to_categorical(y_val, 10)\n",
    "y_test = keras.utils.to_categorical(y_test, 10)\n",
    "\n",
    "# print training set shape\n",
    "print('X_tain shape: ', X_train.shape, 'y_train shape: ', y_train.shape)\n",
    "\n",
    "print (X_train.shape[0], 'train set')\n",
    "print (X_val.shape[0], 'validation set')\n",
    "print (X_test.shape[0], 'test set')"
   ]
  },
  {
   "cell_type": "markdown",
   "id": "096dc2e1",
   "metadata": {},
   "source": [
    "### Model Architecture"
   ]
  },
  {
   "cell_type": "markdown",
   "id": "1c4f521d",
   "metadata": {},
   "source": [
    "* Sequential model API in Keras\n",
    "* Conv2D - create a convolutional layer\n",
    "* Pooling() - create a pooling layer\n",
    "* Dropout () - apply dropout"
   ]
  },
  {
   "cell_type": "code",
   "execution_count": 7,
   "id": "d017a8b9",
   "metadata": {},
   "outputs": [
    {
     "name": "stdout",
     "output_type": "stream",
     "text": [
      "Model: \"sequential\"\n",
      "_________________________________________________________________\n",
      " Layer (type)                Output Shape              Param #   \n",
      "=================================================================\n",
      " conv2d (Conv2D)             (None, 28, 28, 64)        320       \n",
      "                                                                 \n",
      " max_pooling2d (MaxPooling2D  (None, 14, 14, 64)       0         \n",
      " )                                                               \n",
      "                                                                 \n",
      " dropout (Dropout)           (None, 14, 14, 64)        0         \n",
      "                                                                 \n",
      " conv2d_1 (Conv2D)           (None, 14, 14, 32)        8224      \n",
      "                                                                 \n",
      " max_pooling2d_1 (MaxPooling  (None, 7, 7, 32)         0         \n",
      " 2D)                                                             \n",
      "                                                                 \n",
      " dropout_1 (Dropout)         (None, 7, 7, 32)          0         \n",
      "                                                                 \n",
      " conv2d_2 (Conv2D)           (None, 7, 7, 32)          4128      \n",
      "                                                                 \n",
      " max_pooling2d_2 (MaxPooling  (None, 3, 3, 32)         0         \n",
      " 2D)                                                             \n",
      "                                                                 \n",
      " dropout_2 (Dropout)         (None, 3, 3, 32)          0         \n",
      "                                                                 \n",
      " flatten (Flatten)           (None, 288)               0         \n",
      "                                                                 \n",
      " dense (Dense)               (None, 256)               73984     \n",
      "                                                                 \n",
      " dropout_3 (Dropout)         (None, 256)               0         \n",
      "                                                                 \n",
      " dense_1 (Dense)             (None, 10)                2570      \n",
      "                                                                 \n",
      "=================================================================\n",
      "Total params: 89,226\n",
      "Trainable params: 89,226\n",
      "Non-trainable params: 0\n",
      "_________________________________________________________________\n"
     ]
    },
    {
     "name": "stderr",
     "output_type": "stream",
     "text": [
      "2022-01-25 21:04:31.112606: I tensorflow/core/platform/cpu_feature_guard.cc:151] This TensorFlow binary is optimized with oneAPI Deep Neural Network Library (oneDNN) to use the following CPU instructions in performance-critical operations:  AVX2 FMA\n",
      "To enable them in other operations, rebuild TensorFlow with the appropriate compiler flags.\n"
     ]
    }
   ],
   "source": [
    "model = Sequential()\n",
    "\n",
    "# Must define the input shape in the first layer of the neural network\n",
    "model.add(Conv2D(filters=64, kernel_size=2, padding='same', activation='relu', input_shape=(28,28,1))) \n",
    "model.add(MaxPooling2D(pool_size=2))\n",
    "model.add(Dropout(0.3))\n",
    "\n",
    "model.add(Conv2D(filters=32, kernel_size=2, padding='same', activation='relu'))\n",
    "model.add(MaxPooling2D(pool_size=2))\n",
    "model.add(Dropout(0.3))\n",
    "\n",
    "model.add(Conv2D(filters=32, kernel_size=2, padding='same', activation='relu'))\n",
    "model.add(MaxPooling2D(pool_size=2))\n",
    "model.add(Dropout(0.1))\n",
    "\n",
    "#model.add(Conv2D(filters=128, kernel_size=2, padding='same', activation='relu'))\n",
    "#model.add(MaxPooling2D(pool_size=2))\n",
    "#model.add(Dropout(0.1))\n",
    "\n",
    "\n",
    "model.add(Flatten())\n",
    "model.add(Dense(256, activation='relu'))\n",
    "model.add(Dropout(0.3)) #0.5\n",
    "model.add(Dense(10, activation='softmax'))\n",
    "\n",
    "model.summary()"
   ]
  },
  {
   "cell_type": "markdown",
   "id": "24b9283a",
   "metadata": {},
   "source": [
    "### Compile the model"
   ]
  },
  {
   "cell_type": "markdown",
   "id": "2d5782d4",
   "metadata": {},
   "source": [
    "Configure the learning process with compile() beforing training the model.\n",
    "\n",
    "* optimizer\n",
    "* loss function\n",
    "* metrics"
   ]
  },
  {
   "cell_type": "code",
   "execution_count": 8,
   "id": "542eea7d",
   "metadata": {},
   "outputs": [],
   "source": [
    "model.compile(loss='categorical_crossentropy',\n",
    "             optimizer='adam',\n",
    "             metrics=['accuracy'])"
   ]
  },
  {
   "cell_type": "markdown",
   "id": "2c7c9208",
   "metadata": {},
   "source": [
    "### Train the model"
   ]
  },
  {
   "cell_type": "code",
   "execution_count": 9,
   "id": "aa1396f2",
   "metadata": {},
   "outputs": [
    {
     "name": "stdout",
     "output_type": "stream",
     "text": [
      "Epoch 1/20\n",
      "750/750 [==============================] - ETA: 0s - loss: 0.7997 - accuracy: 0.6952\n",
      "Epoch 00001: val_loss improved from inf to 0.51474, saving model to model.weights.best.hdf5\n",
      "750/750 [==============================] - 61s 81ms/step - loss: 0.7997 - accuracy: 0.6952 - val_loss: 0.5147 - val_accuracy: 0.8020\n",
      "Epoch 2/20\n",
      "750/750 [==============================] - ETA: 0s - loss: 0.5198 - accuracy: 0.8045\n",
      "Epoch 00002: val_loss improved from 0.51474 to 0.40924, saving model to model.weights.best.hdf5\n",
      "750/750 [==============================] - 60s 80ms/step - loss: 0.5198 - accuracy: 0.8045 - val_loss: 0.4092 - val_accuracy: 0.8538\n",
      "Epoch 3/20\n",
      "750/750 [==============================] - ETA: 0s - loss: 0.4496 - accuracy: 0.8329\n",
      "Epoch 00003: val_loss improved from 0.40924 to 0.37000, saving model to model.weights.best.hdf5\n",
      "750/750 [==============================] - 64s 86ms/step - loss: 0.4496 - accuracy: 0.8329 - val_loss: 0.3700 - val_accuracy: 0.8658\n",
      "Epoch 4/20\n",
      "750/750 [==============================] - ETA: 0s - loss: 0.4054 - accuracy: 0.8511\n",
      "Epoch 00004: val_loss improved from 0.37000 to 0.32967, saving model to model.weights.best.hdf5\n",
      "750/750 [==============================] - 61s 81ms/step - loss: 0.4054 - accuracy: 0.8511 - val_loss: 0.3297 - val_accuracy: 0.8832\n",
      "Epoch 5/20\n",
      "750/750 [==============================] - ETA: 0s - loss: 0.3764 - accuracy: 0.8606\n",
      "Epoch 00005: val_loss improved from 0.32967 to 0.32055, saving model to model.weights.best.hdf5\n",
      "750/750 [==============================] - 62s 83ms/step - loss: 0.3764 - accuracy: 0.8606 - val_loss: 0.3205 - val_accuracy: 0.8824\n",
      "Epoch 6/20\n",
      "750/750 [==============================] - ETA: 0s - loss: 0.3578 - accuracy: 0.8685\n",
      "Epoch 00006: val_loss improved from 0.32055 to 0.30254, saving model to model.weights.best.hdf5\n",
      "750/750 [==============================] - 61s 81ms/step - loss: 0.3578 - accuracy: 0.8685 - val_loss: 0.3025 - val_accuracy: 0.8896\n",
      "Epoch 7/20\n",
      "750/750 [==============================] - ETA: 0s - loss: 0.3423 - accuracy: 0.8735\n",
      "Epoch 00007: val_loss improved from 0.30254 to 0.27990, saving model to model.weights.best.hdf5\n",
      "750/750 [==============================] - 61s 82ms/step - loss: 0.3423 - accuracy: 0.8735 - val_loss: 0.2799 - val_accuracy: 0.8965\n",
      "Epoch 8/20\n",
      "750/750 [==============================] - ETA: 0s - loss: 0.3312 - accuracy: 0.8785\n",
      "Epoch 00008: val_loss improved from 0.27990 to 0.27639, saving model to model.weights.best.hdf5\n",
      "750/750 [==============================] - 62s 82ms/step - loss: 0.3312 - accuracy: 0.8785 - val_loss: 0.2764 - val_accuracy: 0.8968\n",
      "Epoch 9/20\n",
      "750/750 [==============================] - ETA: 0s - loss: 0.3228 - accuracy: 0.8810\n",
      "Epoch 00009: val_loss improved from 0.27639 to 0.26970, saving model to model.weights.best.hdf5\n",
      "750/750 [==============================] - 62s 83ms/step - loss: 0.3228 - accuracy: 0.8810 - val_loss: 0.2697 - val_accuracy: 0.9002\n",
      "Epoch 10/20\n",
      "750/750 [==============================] - ETA: 0s - loss: 0.3120 - accuracy: 0.8860\n",
      "Epoch 00010: val_loss did not improve from 0.26970\n",
      "750/750 [==============================] - 61s 82ms/step - loss: 0.3120 - accuracy: 0.8860 - val_loss: 0.2782 - val_accuracy: 0.8961\n",
      "Epoch 11/20\n",
      "750/750 [==============================] - ETA: 0s - loss: 0.3040 - accuracy: 0.8879\n",
      "Epoch 00011: val_loss improved from 0.26970 to 0.26136, saving model to model.weights.best.hdf5\n",
      "750/750 [==============================] - 62s 83ms/step - loss: 0.3040 - accuracy: 0.8879 - val_loss: 0.2614 - val_accuracy: 0.9038\n",
      "Epoch 12/20\n",
      "750/750 [==============================] - ETA: 0s - loss: 0.2954 - accuracy: 0.8907\n",
      "Epoch 00012: val_loss improved from 0.26136 to 0.25851, saving model to model.weights.best.hdf5\n",
      "750/750 [==============================] - 62s 83ms/step - loss: 0.2954 - accuracy: 0.8907 - val_loss: 0.2585 - val_accuracy: 0.9056\n",
      "Epoch 13/20\n",
      "750/750 [==============================] - ETA: 0s - loss: 0.2915 - accuracy: 0.8919\n",
      "Epoch 00013: val_loss improved from 0.25851 to 0.25221, saving model to model.weights.best.hdf5\n",
      "750/750 [==============================] - 66s 88ms/step - loss: 0.2915 - accuracy: 0.8919 - val_loss: 0.2522 - val_accuracy: 0.9075\n",
      "Epoch 14/20\n",
      "750/750 [==============================] - ETA: 0s - loss: 0.2862 - accuracy: 0.8924\n",
      "Epoch 00014: val_loss improved from 0.25221 to 0.24551, saving model to model.weights.best.hdf5\n",
      "750/750 [==============================] - 66s 88ms/step - loss: 0.2862 - accuracy: 0.8924 - val_loss: 0.2455 - val_accuracy: 0.9076\n",
      "Epoch 15/20\n",
      "750/750 [==============================] - ETA: 0s - loss: 0.2851 - accuracy: 0.8948\n",
      "Epoch 00015: val_loss did not improve from 0.24551\n",
      "750/750 [==============================] - 69s 92ms/step - loss: 0.2851 - accuracy: 0.8948 - val_loss: 0.2508 - val_accuracy: 0.9083\n",
      "Epoch 16/20\n",
      "750/750 [==============================] - ETA: 0s - loss: 0.2802 - accuracy: 0.8967\n",
      "Epoch 00016: val_loss improved from 0.24551 to 0.24035, saving model to model.weights.best.hdf5\n",
      "750/750 [==============================] - 68s 90ms/step - loss: 0.2802 - accuracy: 0.8967 - val_loss: 0.2403 - val_accuracy: 0.9130\n",
      "Epoch 17/20\n",
      "750/750 [==============================] - ETA: 0s - loss: 0.2771 - accuracy: 0.8973\n",
      "Epoch 00017: val_loss did not improve from 0.24035\n",
      "750/750 [==============================] - 65s 87ms/step - loss: 0.2771 - accuracy: 0.8973 - val_loss: 0.2428 - val_accuracy: 0.9121\n",
      "Epoch 18/20\n",
      "750/750 [==============================] - ETA: 0s - loss: 0.2733 - accuracy: 0.8980\n",
      "Epoch 00018: val_loss improved from 0.24035 to 0.23706, saving model to model.weights.best.hdf5\n",
      "750/750 [==============================] - 63s 84ms/step - loss: 0.2733 - accuracy: 0.8980 - val_loss: 0.2371 - val_accuracy: 0.9116\n",
      "Epoch 19/20\n",
      "750/750 [==============================] - ETA: 0s - loss: 0.2699 - accuracy: 0.9003\n",
      "Epoch 00019: val_loss did not improve from 0.23706\n",
      "750/750 [==============================] - 64s 85ms/step - loss: 0.2699 - accuracy: 0.9003 - val_loss: 0.2478 - val_accuracy: 0.9081\n",
      "Epoch 20/20\n",
      "750/750 [==============================] - ETA: 0s - loss: 0.2640 - accuracy: 0.9019\n",
      "Epoch 00020: val_loss did not improve from 0.23706\n",
      "750/750 [==============================] - 64s 85ms/step - loss: 0.2640 - accuracy: 0.9019 - val_loss: 0.2398 - val_accuracy: 0.9111\n"
     ]
    }
   ],
   "source": [
    "from keras.callbacks import ModelCheckpoint\n",
    "\n",
    "checkpointer = ModelCheckpoint(filepath='model.weights.best.hdf5', verbose = 1, save_best_only=True)\n",
    "result = model.fit(X_train,\n",
    "                   y_train,\n",
    "                   batch_size=64,\n",
    "                   epochs=20,\n",
    "                   validation_data=(X_val, y_val),\n",
    "                   callbacks=[checkpointer])"
   ]
  },
  {
   "cell_type": "markdown",
   "id": "74609d57",
   "metadata": {},
   "source": [
    "### Load model with the bwst validation accuracy"
   ]
  },
  {
   "cell_type": "code",
   "execution_count": 10,
   "id": "bde82f77",
   "metadata": {},
   "outputs": [],
   "source": [
    "# Load the weights with the best validation accuracy\n",
    "model.load_weights('model.weights.best.hdf5')"
   ]
  },
  {
   "cell_type": "markdown",
   "id": "d8281099",
   "metadata": {},
   "source": [
    "### Test accuracy"
   ]
  },
  {
   "cell_type": "code",
   "execution_count": 11,
   "id": "f5df06d4",
   "metadata": {},
   "outputs": [
    {
     "name": "stdout",
     "output_type": "stream",
     "text": [
      "\n",
      " Test accuracy: 0.9081000089645386\n"
     ]
    }
   ],
   "source": [
    "# Evaluate the model on test set\n",
    "score = model.evaluate(X_test, y_test, verbose=0)\n",
    "\n",
    "# Print test accuracy\n",
    "print('\\n', 'Test accuracy:', score[1])"
   ]
  },
  {
   "cell_type": "code",
   "execution_count": 12,
   "id": "5ef6c90d",
   "metadata": {
    "scrolled": false
   },
   "outputs": [
    {
     "data": {
      "text/plain": [
       "[0.695187509059906,\n",
       " 0.804520845413208,\n",
       " 0.832854151725769,\n",
       " 0.8510624766349792,\n",
       " 0.8605625033378601,\n",
       " 0.8685416579246521,\n",
       " 0.8735416531562805,\n",
       " 0.8784791827201843,\n",
       " 0.8810416460037231,\n",
       " 0.8859999775886536,\n",
       " 0.8878750205039978,\n",
       " 0.890749990940094,\n",
       " 0.8918958306312561,\n",
       " 0.8923749923706055,\n",
       " 0.8947708606719971,\n",
       " 0.8966666460037231,\n",
       " 0.8972916603088379,\n",
       " 0.8979791402816772,\n",
       " 0.9003333449363708,\n",
       " 0.9019166827201843]"
      ]
     },
     "execution_count": 12,
     "metadata": {},
     "output_type": "execute_result"
    }
   ],
   "source": [
    "result.history['accuracy']"
   ]
  },
  {
   "cell_type": "code",
   "execution_count": 13,
   "id": "0794770d",
   "metadata": {},
   "outputs": [
    {
     "data": {
      "text/plain": [
       "[<matplotlib.lines.Line2D at 0x170b3f040>]"
      ]
     },
     "execution_count": 13,
     "metadata": {},
     "output_type": "execute_result"
    },
    {
     "data": {
      "image/png": "[encoded data removed]",
      "text/plain": [
       "<Figure size 432x288 with 1 Axes>"
      ]
     },
     "metadata": {
      "needs_background": "light"
     },
     "output_type": "display_data"
    }
   ],
   "source": [
    "plt.plot(result.history['accuracy'])"
   ]
  },
  {
   "cell_type": "code",
   "execution_count": 14,
   "id": "f5f27c74",
   "metadata": {},
   "outputs": [
    {
     "data": {
      "text/plain": [
       "[0.8019999861717224,\n",
       " 0.8538333177566528,\n",
       " 0.8658333420753479,\n",
       " 0.8831666707992554,\n",
       " 0.8824166655540466,\n",
       " 0.8895833492279053,\n",
       " 0.8964999914169312,\n",
       " 0.8968333601951599,\n",
       " 0.9001666903495789,\n",
       " 0.8960833549499512,\n",
       " 0.9037500023841858,\n",
       " 0.9055833220481873,\n",
       " 0.9075000286102295,\n",
       " 0.9075833559036255,\n",
       " 0.9083333611488342,\n",
       " 0.9129999876022339,\n",
       " 0.9120833277702332,\n",
       " 0.9115833044052124,\n",
       " 0.9080833196640015,\n",
       " 0.9110833406448364]"
      ]
     },
     "execution_count": 14,
     "metadata": {},
     "output_type": "execute_result"
    }
   ],
   "source": [
    "result.history['val_accuracy']"
   ]
  },
  {
   "cell_type": "code",
   "execution_count": 15,
   "id": "cf01fa53",
   "metadata": {},
   "outputs": [
    {
     "data": {
      "text/plain": [
       "[<matplotlib.lines.Line2D at 0x170c1fa00>]"
      ]
     },
     "execution_count": 15,
     "metadata": {},
     "output_type": "execute_result"
    },
    {
     "data": {
      "image/png": "[encoded data removed]",
      "text/plain": [
       "<Figure size 432x288 with 1 Axes>"
      ]
     },
     "metadata": {
      "needs_background": "light"
     },
     "output_type": "display_data"
    }
   ],
   "source": [
    "plt.plot(result.history['val_accuracy'])"
   ]
  },
  {
   "cell_type": "code",
   "execution_count": 26,
   "id": "4080c0c9",
   "metadata": {},
   "outputs": [
    {
     "data": {
      "image/png": "[encoded data removed]",
      "text/plain": [
       "<Figure size 720x288 with 2 Axes>"
      ]
     },
     "metadata": {
      "needs_background": "light"
     },
     "output_type": "display_data"
    }
   ],
   "source": [
    "plt.figure(figsize=(10,4))\n",
    "plt.subplot(1,2,1)\n",
    "\n",
    "plt.plot(result.history['accuracy'], label='train accuracy', color='red')\n",
    "plt.plot(result.history['val_accuracy'], label='val accuracy', color='blue')\n",
    "plt.legend()\n",
    "\n",
    "plt.subplot(1,2,2)\n",
    "plt.plot(result.history['loss'], label='train loss', color='red')\n",
    "plt.plot(result.history['val_loss'], label='val loss', color='blue')\n",
    "plt.legend()\n",
    "\n",
    "plt.savefig('Accuracy & Loss', dpi=150)\n",
    "plt.show()"
   ]
  },
  {
   "cell_type": "code",
   "execution_count": 20,
   "id": "9bba06d9",
   "metadata": {
    "scrolled": true
   },
   "outputs": [
    {
     "data": {
      "text/plain": [
       "['loss', 'accuracy']"
      ]
     },
     "execution_count": 20,
     "metadata": {},
     "output_type": "execute_result"
    }
   ],
   "source": [
    "model.metrics_names"
   ]
  },
  {
   "cell_type": "markdown",
   "id": "b494a9e9",
   "metadata": {},
   "source": [
    "### Visualize prediction"
   ]
  },
  {
   "cell_type": "markdown",
   "id": "321fad47",
   "metadata": {},
   "source": [
    "Now let's visualize the prediction using the model you just trained. First we get the predictions with the model from the test data. Then we print out 15 images from the test data set, and set the titles with the prediction (and the groud truth label). If the prediction matches the true label, the title will be green; otherwise it's displayed in red."
   ]
  },
  {
   "cell_type": "code",
   "execution_count": 18,
   "id": "6d74b79c",
   "metadata": {},
   "outputs": [],
   "source": [
    "labels = ['T-shirt/top', 'Trouser', 'Pullover', 'Dress', 'Coat',\n",
    "               'Sandal', 'Shirt', 'Sneaker', 'Bag', 'Ankle boot']"
   ]
  },
  {
   "cell_type": "code",
   "execution_count": 25,
   "id": "11819cc8",
   "metadata": {},
   "outputs": [
    {
     "data": {
      "image/png": "[encoded data removed]",
      "text/plain": [
       "<Figure size 1440x576 with 15 Axes>"
      ]
     },
     "metadata": {},
     "output_type": "display_data"
    }
   ],
   "source": [
    "y_hat = model.predict(X_test)\n",
    "\n",
    "# Plot a random sample of 10 test images, their predicted labels and ground truth\n",
    "figure = plt.figure(figsize=(20, 8))\n",
    "for i, index in enumerate(np.random.choice(X_test.shape[0], size=15, replace=False)):\n",
    "    ax = figure.add_subplot(3, 5, i + 1, xticks=[], yticks=[])\n",
    "    # Display each image\n",
    "    plt.savefig('Output Sample', dpi=150)\n",
    "    ax.imshow(np.squeeze(X_test[index]))\n",
    "    predict_index = np.argmax(y_hat[index])\n",
    "    true_index = np.argmax(y_test[index])\n",
    "    # Set the title for each image\n",
    "    ax.set_title(\"{} ({})\".format(labels[predict_index], \n",
    "                                  labels[true_index]),\n",
    "                                  color=(\"green\" if predict_index == true_index else \"red\"))"
   ]
  },
  {
   "cell_type": "code",
   "execution_count": null,
   "id": "dd394a97",
   "metadata": {},
   "outputs": [],
   "source": []
  }
 ],
 "metadata": {
  "kernelspec": {
   "display_name": "Python 3 (ipykernel)",
   "language": "python",
   "name": "python3"
  },
  "language_info": {
   "codemirror_mode": {
    "name": "ipython",
    "version": 3
   },
   "file_extension": ".py",
   "mimetype": "text/x-python",
   "name": "python",
   "nbconvert_exporter": "python",
   "pygments_lexer": "ipython3",
   "version": "3.9.7"
  }
 },
 "nbformat": 4,
 "nbformat_minor": 5
}
